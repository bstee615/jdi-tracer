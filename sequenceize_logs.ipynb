{
 "cells": [
  {
   "cell_type": "code",
   "execution_count": 69,
   "metadata": {},
   "outputs": [
    {
     "name": "stdout",
     "output_type": "stream",
     "text": [
      "1477\n"
     ]
    }
   ],
   "source": [
    "from pathlib import Path\n",
    "\n",
    "log_dir = Path(\"logs\")\n",
    "log_files = list(sorted(log_dir.glob('*.csv')))\n",
    "print(len(log_files))\n",
    "\n",
    "source_dir = Path(\"mini_Project_CodeNet\")"
   ]
  },
  {
   "cell_type": "code",
   "execution_count": 75,
   "metadata": {},
   "outputs": [
    {
     "name": "stdout",
     "output_type": "stream",
     "text": [
      "Error logs/p02256-s279856357.csv no element found: line 1, column 0\n",
      "Error logs/p02256-s656638000.csv no element found: line 1, column 0\n",
      "Error logs/p02256-s666464379.csv no element found: line 1, column 0\n",
      "Error logs/p02971-s195607468.csv no element found: line 75, column 5989101\n",
      "Error logs/p03242-s136189070.csv not well-formed (invalid token): line 17, column 64\n",
      "Error logs/p03242-s228874361.csv not well-formed (invalid token): line 17, column 64\n",
      "Error logs/p03242-s389295447.csv not well-formed (invalid token): line 21, column 67\n",
      "Error logs/p03242-s597642026.csv not well-formed (invalid token): line 17, column 66\n",
      "Error logs/p03242-s660524854.csv not well-formed (invalid token): line 21, column 66\n",
      "Error logs/p03242-s903109886.csv not well-formed (invalid token): line 17, column 64\n",
      "Error logs/p03242-s952312283.csv not well-formed (invalid token): line 17, column 64\n",
      "Error logs/p04030-s058903206.csv not well-formed (invalid token): line 15, column 68\n",
      "Error logs/p04030-s071383219.csv not well-formed (invalid token): line 21, column 69\n",
      "Error logs/p04030-s152720542.csv not well-formed (invalid token): line 17, column 64\n",
      "Error logs/p04030-s211555455.csv not well-formed (invalid token): line 15, column 68\n",
      "Error logs/p04030-s251158702.csv not well-formed (invalid token): line 17, column 64\n",
      "Error logs/p04030-s257489278.csv not well-formed (invalid token): line 21, column 66\n",
      "Error logs/p04030-s291998575.csv not well-formed (invalid token): line 17, column 64\n",
      "Error logs/p04030-s386410820.csv not well-formed (invalid token): line 28, column 67\n",
      "Error logs/p04030-s433548530.csv not well-formed (invalid token): line 17, column 66\n",
      "Error logs/p04030-s579967008.csv not well-formed (invalid token): line 21, column 67\n",
      "Error logs/p04030-s603472788.csv not well-formed (invalid token): line 28, column 67\n",
      "Error logs/p04030-s609107590.csv not well-formed (invalid token): line 21, column 66\n",
      "Error logs/p04030-s658806369.csv not well-formed (invalid token): line 21, column 65\n",
      "Error logs/p04030-s694824268.csv not well-formed (invalid token): line 17, column 69\n",
      "Error logs/p04030-s744375603.csv not well-formed (invalid token): line 17, column 66\n",
      "Error logs/p04030-s788209959.csv not well-formed (invalid token): line 21, column 69\n",
      "27 skipped 27 errored out\n"
     ]
    }
   ],
   "source": [
    "import xml.etree.ElementTree as ET\n",
    "\n",
    "sequences = []\n",
    "skipped = 0\n",
    "errored = 0\n",
    "\n",
    "for log_file in log_files:\n",
    "    tokens = ['<CODE>']\n",
    "\n",
    "    problem, solution = log_file.stem.split('-')\n",
    "    source_file = source_dir / problem / 'Java' / (solution + '.java')\n",
    "    with open(source_file) as f:\n",
    "        lines = f.readlines()\n",
    "    lines = [l + f'/*L{i}*/' for i, l in enumerate(lines)]\n",
    "    tokens += ''.join(lines).split()\n",
    "\n",
    "    try:\n",
    "        # Map line number to data\n",
    "        state = {}\n",
    "        output = {}\n",
    "\n",
    "        tree = ET.parse(log_file)\n",
    "        trace = tree.getroot()\n",
    "        for child in trace:\n",
    "            if child.tag == 'program_point':\n",
    "                filename, lineno = child.attrib[\"location\"].split(':')\n",
    "                state[lineno] = my_state = []\n",
    "                for variable in child:\n",
    "                    if variable.tag == 'variable':\n",
    "                        my_state.append((variable.attrib[\"name\"], variable.text))\n",
    "                    elif variable.tag == 'stdout':\n",
    "                        output[lineno] = variable.text\n",
    "            elif child.tag == 'stdout':\n",
    "                output[lineno] = child.text\n",
    "        tokens.append('<STATE>')\n",
    "        for lineno, states in state.items():\n",
    "            tokens.append(f'L{lineno}')\n",
    "            for variable in states:\n",
    "                name, text = variable\n",
    "                tokens += [name, text]\n",
    "        tokens.append('<OUTPUT>')\n",
    "        for lineno, outputs in output.items():\n",
    "            tokens.append(f'L{lineno}')\n",
    "            tokens.append('\"' + outputs.replace('\\n', '\\\\n') + '\"')\n",
    "    except Exception as e:\n",
    "        print('Error', log_file, e)\n",
    "        errored += 1\n",
    "        continue\n",
    "    tokens.append('<END>')\n",
    "\n",
    "    trunc = 100\n",
    "    tokens = [tok[:trunc] for tok in tokens]\n",
    "    \n",
    "    if (len(tokens) < 1000):\n",
    "        sequences.append(tokens)\n",
    "    else:\n",
    "        skipped += 1\n",
    "print(skipped, 'skipped', errored, 'errored out')"
   ]
  },
  {
   "cell_type": "code",
   "execution_count": 92,
   "metadata": {},
   "outputs": [
    {
     "name": "stdout",
     "output_type": "stream",
     "text": [
      "number of sequences: 1423\n",
      "average token length: 8.33155110775268\n",
      "average sequence length: 221.33661278988055\n",
      "average code length: 111.77160927617709\n",
      "average state length: 103.03092059030217\n",
      "average output length: 2.534082923401265\n"
     ]
    }
   ],
   "source": [
    "from collections import defaultdict\n",
    "from matplotlib import pyplot as plt\n",
    "\n",
    "print('number of sequences:', len(sequences))\n",
    "seq_lengths = defaultdict(int)\n",
    "token_lengths = defaultdict(int)\n",
    "code_lengths = defaultdict(int)\n",
    "state_lengths = defaultdict(int)\n",
    "output_lengths = defaultdict(int)\n",
    "for seq in sequences:\n",
    "    seq_lengths[len(seq)] += 1\n",
    "    code_lengths[seq.index('<STATE>') - seq.index('<CODE>')-1] += 1\n",
    "    state_lengths[seq.index('<OUTPUT>') - seq.index('<STATE>')-1] += 1\n",
    "    output_lengths[seq.index('<END>') - seq.index('<OUTPUT>')-1] += 1\n",
    "    for tok in seq:\n",
    "        token_lengths[len(tok)] += 1\n",
    "\n",
    "# print(code_lengths, state_lengths, output_lengths)\n",
    "\n",
    "def get_avg(dd):\n",
    "    long = []\n",
    "    for l, f in dd.items():\n",
    "        long += [l] * f\n",
    "    return sum(long) / len(long)\n",
    "\n",
    "print('average token length:', get_avg(token_lengths))\n",
    "print('average sequence length:', get_avg(seq_lengths))\n",
    "print('average code length:', get_avg(code_lengths))\n",
    "print('average state length:', get_avg(state_lengths))\n",
    "print('average output length:', get_avg(output_lengths))"
   ]
  },
  {
   "cell_type": "code",
   "execution_count": 93,
   "metadata": {},
   "outputs": [
    {
     "data": {
      "text/plain": [
       "Text(0.5, 1.0, 'Token length (capped at 100)')"
      ]
     },
     "execution_count": 93,
     "metadata": {},
     "output_type": "execute_result"
    },
    {
     "data": {
      "image/png": "[encoded data removed]",
      "text/plain": [
       "<Figure size 432x288 with 1 Axes>"
      ]
     },
     "metadata": {
      "needs_background": "light"
     },
     "output_type": "display_data"
    }
   ],
   "source": [
    "plt.bar(token_lengths.keys(), token_lengths.values(), width=5)\n",
    "plt.xlabel('Character count')\n",
    "plt.ylabel('Frequency')\n",
    "plt.title('Token length (capped at 100)')"
   ]
  },
  {
   "cell_type": "code",
   "execution_count": 94,
   "metadata": {},
   "outputs": [
    {
     "data": {
      "text/plain": [
       "Text(0.5, 1.0, 'Sequence length (capped at 1000)')"
      ]
     },
     "execution_count": 94,
     "metadata": {},
     "output_type": "execute_result"
    },
    {
     "data": {
      "image/png": "[encoded data removed]",
      "text/plain": [
       "<Figure size 432x288 with 1 Axes>"
      ]
     },
     "metadata": {
      "needs_background": "light"
     },
     "output_type": "display_data"
    }
   ],
   "source": [
    "plt.bar(seq_lengths.keys(), seq_lengths.values(), width=10)\n",
    "plt.xlabel('Token count')\n",
    "plt.ylabel('Frequency')\n",
    "plt.title('Sequence length (capped at 1000)')"
   ]
  },
  {
   "cell_type": "code",
   "execution_count": 97,
   "metadata": {},
   "outputs": [
    {
     "data": {
      "text/plain": [
       "Text(0.5, 1.0, 'Code sequence length')"
      ]
     },
     "execution_count": 97,
     "metadata": {},
     "output_type": "execute_result"
    },
    {
     "data": {
      "image/png": "[encoded data removed]",
      "text/plain": [
       "<Figure size 432x288 with 1 Axes>"
      ]
     },
     "metadata": {
      "needs_background": "light"
     },
     "output_type": "display_data"
    }
   ],
   "source": [
    "plt.bar(code_lengths.keys(), code_lengths.values(), width=10)\n",
    "plt.xlabel('Token count')\n",
    "plt.ylabel('Frequency')\n",
    "plt.title('Code sequence length')"
   ]
  },
  {
   "cell_type": "code",
   "execution_count": 98,
   "metadata": {},
   "outputs": [
    {
     "data": {
      "text/plain": [
       "Text(0.5, 1.0, 'State sequence length')"
      ]
     },
     "execution_count": 98,
     "metadata": {},
     "output_type": "execute_result"
    },
    {
     "data": {
      "image/png": "[encoded data removed]",
      "text/plain": [
       "<Figure size 432x288 with 1 Axes>"
      ]
     },
     "metadata": {
      "needs_background": "light"
     },
     "output_type": "display_data"
    }
   ],
   "source": [
    "plt.bar(state_lengths.keys(), state_lengths.values(), width=10)\n",
    "plt.xlabel('Token count')\n",
    "plt.ylabel('Frequency')\n",
    "plt.title('State sequence length')"
   ]
  },
  {
   "cell_type": "code",
   "execution_count": 99,
   "metadata": {},
   "outputs": [
    {
     "data": {
      "text/plain": [
       "Text(0.5, 1.0, 'Output sequence length')"
      ]
     },
     "execution_count": 99,
     "metadata": {},
     "output_type": "execute_result"
    },
    {
     "data": {
      "image/png": "[encoded data removed]",
      "text/plain": [
       "<Figure size 432x288 with 1 Axes>"
      ]
     },
     "metadata": {
      "needs_background": "light"
     },
     "output_type": "display_data"
    }
   ],
   "source": [
    "plt.bar(output_lengths.keys(), output_lengths.values())\n",
    "plt.xlabel('Token count')\n",
    "plt.ylabel('Frequency')\n",
    "plt.title('Output sequence length')"
   ]
  },
  {
   "cell_type": "code",
   "execution_count": 95,
   "metadata": {},
   "outputs": [
    {
     "name": "stdout",
     "output_type": "stream",
     "text": [
      "<CODE> import java.util.HashMap; /*L0*/import java.util.Scanner; /*L1*/ /*L2*/public class Main { /*L3*/ /*L4*/ public static void main(String[] args) { /*L5*/ Scanner sc = new Scanner(System.in); /*L6*/ int n = sc.nextInt(); /*L7*/ int[] a = new int[n]; /*L8*/ int max = 0; /*L9*/ int maxnum = 0; /*L10*/ int submax = 0; /*L11*/ for (int i = 0; i < n; i++) { /*L12*/ a[i] = sc.nextInt(); /*L13*/ if (max <= a[i]) { /*L14*/ submax = max; /*L15*/ max = a[i]; /*L16*/ maxnum = i; /*L17*/ } else if (submax <= a[i]) { /*L18*/ submax = a[i]; /*L19*/ } /*L20*/ } /*L21*/ for (int i = 0; i < n; i++) { /*L22*/ if (i == maxnum) { /*L23*/ System.out.println(submax); /*L24*/ } else { /*L25*/ System.out.println(max); /*L26*/ } /*L27*/ } /*L28*/ } /*L29*/}/*L30*/ <STATE> L7 args [] L8 sc \"java.util.Scanner[delimiters=\\p{javaWhitespace}+][position=0][match valid=false][need input=false][ args [] L9 sc \"java.util.Scanner[delimiters=\\p{javaWhitespace}+][position=1][match valid=true][need input=false][s args [] n 3 L10 sc \"java.util.Scanner[delimiters=\\p{javaWhitespace}+][position=1][match valid=true][need input=false][s args [] a [0, 0, 0] n 3 L11 max 0 sc \"java.util.Scanner[delimiters=\\p{javaWhitespace}+][position=1][match valid=true][need input=false][s args [] a [0, 0, 0] n 3 L12 maxnum 0 max 0 sc \"java.util.Scanner[delimiters=\\p{javaWhitespace}+][position=1][match valid=true][need input=false][s args [] a [0, 0, 0] n 3 L13 maxnum 1 max 4 i 2 submax 3 sc \"java.util.Scanner[delimiters=\\p{javaWhitespace}+][position=7][match valid=true][need input=false][s args [] a [1, 4, 3] n 3 L14 maxnum 1 max 4 i 2 submax 1 sc \"java.util.Scanner[delimiters=\\p{javaWhitespace}+][position=5][match valid=true][need input=false][s args [] a [1, 4, 0] n 3 L15 maxnum 1 max 4 i 2 submax 1 sc \"java.util.Scanner[delimiters=\\p{javaWhitespace}+][position=7][match valid=true][need input=false][s args [] a [1, 4, 3] n 3 L16 maxnum 0 max 1 i 1 submax 0 sc \"java.util.Scanner[delimiters=\\p{javaWhitespace}+][position=5][match valid=true][need input=false][s args [] a [1, 4, 0] n 3 L17 maxnum 0 max 1 i 1 submax 1 sc \"java.util.Scanner[delimiters=\\p{javaWhitespace}+][position=5][match valid=true][need input=false][s args [] a [1, 4, 0] n 3 L18 maxnum 0 max 4 i 1 submax 1 sc \"java.util.Scanner[delimiters=\\p{javaWhitespace}+][position=5][match valid=true][need input=false][s args [] a [1, 4, 0] n 3 L19 maxnum 1 max 4 i 2 submax 1 sc \"java.util.Scanner[delimiters=\\p{javaWhitespace}+][position=7][match valid=true][need input=false][s args [] a [1, 4, 3] n 3 L20 maxnum 1 max 4 i 2 submax 1 sc \"java.util.Scanner[delimiters=\\p{javaWhitespace}+][position=7][match valid=true][need input=false][s args [] a [1, 4, 3] n 3 L23 maxnum 1 max 4 i 2 submax 3 sc \"java.util.Scanner[delimiters=\\p{javaWhitespace}+][position=7][match valid=true][need input=false][s args [] a [1, 4, 3] n 3 L24 maxnum 1 max 4 i 2 submax 3 sc \"java.util.Scanner[delimiters=\\p{javaWhitespace}+][position=7][match valid=true][need input=false][s args [] a [1, 4, 3] n 3 L27 maxnum 1 max 4 i 2 submax 3 sc \"java.util.Scanner[delimiters=\\p{javaWhitespace}+][position=7][match valid=true][need input=false][s args [] a [1, 4, 3] n 3 L25 maxnum 1 max 4 i 1 submax 3 sc \"java.util.Scanner[delimiters=\\p{javaWhitespace}+][position=7][match valid=true][need input=false][s args [] a [1, 4, 3] n 3 L30 maxnum 1 max 4 submax 3 sc \"java.util.Scanner[delimiters=\\p{javaWhitespace}+][position=7][match valid=true][need input=false][s args [] a [1, 4, 3] n 3 <OUTPUT> L27 \"\\n\" L25 \"\\n\" <END>\n",
      "\n",
      "<CODE> import java.util.Arrays; /*L0*/import java.util.Scanner; /*L1*/public class Main { /*L2*/ public static void main(String[] args){ /*L3*/ Scanner sc = new Scanner(System.in); /*L4*/ // 整数の入力 /*L5*/ int N = sc.nextInt(); /*L6*/ int[] a = new int[N]; /*L7*/ int[] buff = new int[N]; /*L8*/ for(int i=0;i<N;i++) { /*L9*/ a[i] = sc.nextInt(); /*L10*/ } /*L11*/ buff = a.clone(); /*L12*/ Arrays.sort(buff); /*L13*/ int max = buff[N-1]; /*L14*/ int sMax=max; /*L15*/ for(int i=N-2;i>=0;i--) { /*L16*/ if(buff[i]!=max) { /*L17*/ sMax = buff[i]; /*L18*/ break; /*L19*/ } /*L20*/ } /*L21*/ /*L22*/ for(int i=0;i<N;i++) { /*L23*/ //System.out.print(a[i]); /*L24*/ if(a[i] == max) { /*L25*/ System.out.println(sMax); /*L26*/ }else { /*L27*/ System.out.println(max); /*L28*/ } /*L29*/ } /*L30*/ /*L31*/ /*L32*/ } /*L33*/}/*L34*/ <STATE> L5 args [] L7 sc \"java.util.Scanner[delimiters=\\p{javaWhitespace}+][position=0][match valid=false][need input=false][ args [] L8 sc \"java.util.Scanner[delimiters=\\p{javaWhitespace}+][position=1][match valid=true][need input=false][s args [] N 3 L9 sc \"java.util.Scanner[delimiters=\\p{javaWhitespace}+][position=1][match valid=true][need input=false][s args [] a [0, 0, 0] N 3 L10 i 2 buff [0, 0, 0] sc \"java.util.Scanner[delimiters=\\p{javaWhitespace}+][position=7][match valid=true][need input=false][s args [] a [1, 4, 3] N 3 L11 i 2 buff [0, 0, 0] sc \"java.util.Scanner[delimiters=\\p{javaWhitespace}+][position=5][match valid=true][need input=false][s args [] a [1, 4, 0] N 3 L13 buff [0, 0, 0] sc \"java.util.Scanner[delimiters=\\p{javaWhitespace}+][position=7][match valid=true][need input=false][s args [] a [1, 4, 3] N 3 L14 buff [1, 4, 3] sc \"java.util.Scanner[delimiters=\\p{javaWhitespace}+][position=7][match valid=true][need input=false][s args [] a [1, 4, 3] N 3 L15 buff [1, 3, 4] sc \"java.util.Scanner[delimiters=\\p{javaWhitespace}+][position=7][match valid=true][need input=false][s args [] a [1, 4, 3] N 3 L16 max 4 buff [1, 3, 4] sc \"java.util.Scanner[delimiters=\\p{javaWhitespace}+][position=7][match valid=true][need input=false][s args [] a [1, 4, 3] N 3 L17 max 4 buff [1, 3, 4] sMax 4 sc \"java.util.Scanner[delimiters=\\p{javaWhitespace}+][position=7][match valid=true][need input=false][s args [] a [1, 4, 3] N 3 L18 max 4 buff [1, 3, 4] i 1 sMax 4 sc \"java.util.Scanner[delimiters=\\p{javaWhitespace}+][position=7][match valid=true][need input=false][s args [] a [1, 4, 3] N 3 L19 max 4 buff [1, 3, 4] i 1 sMax 4 sc \"java.util.Scanner[delimiters=\\p{javaWhitespace}+][position=7][match valid=true][need input=false][s args [] a [1, 4, 3] N 3 L20 max 4 buff [1, 3, 4] i 1 sMax 3 sc \"java.util.Scanner[delimiters=\\p{javaWhitespace}+][position=7][match valid=true][need input=false][s args [] a [1, 4, 3] N 3 L24 max 4 buff [1, 3, 4] i 2 sMax 3 sc \"java.util.Scanner[delimiters=\\p{javaWhitespace}+][position=7][match valid=true][need input=false][s args [] a [1, 4, 3] N 3 L26 max 4 buff [1, 3, 4] i 2 sMax 3 sc \"java.util.Scanner[delimiters=\\p{javaWhitespace}+][position=7][match valid=true][need input=false][s args [] a [1, 4, 3] N 3 L29 max 4 buff [1, 3, 4] i 2 sMax 3 sc \"java.util.Scanner[delimiters=\\p{javaWhitespace}+][position=7][match valid=true][need input=false][s args [] a [1, 4, 3] N 3 L27 max 4 buff [1, 3, 4] i 1 sMax 3 sc \"java.util.Scanner[delimiters=\\p{javaWhitespace}+][position=7][match valid=true][need input=false][s args [] a [1, 4, 3] N 3 L34 max 4 buff [1, 3, 4] sMax 3 sc \"java.util.Scanner[delimiters=\\p{javaWhitespace}+][position=7][match valid=true][need input=false][s args [] a [1, 4, 3] N 3 <OUTPUT> L29 \"\\n\" L27 \"\\n\" <END>\n",
      "\n",
      "<CODE> import java.util.Scanner; /*L0*/ /*L1*/public class Main { /*L2*/ public static void main(String[] args) { /*L3*/ /*L4*/ int a,b,c,d; /*L5*/ /*L6*/ Scanner sc = new Scanner(System.in); /*L7*/ /*L8*/ a = sc.nextInt(); /*L9*/ b = sc.nextInt(); /*L10*/ c = sc.nextInt(); /*L11*/ d = sc.nextInt(); /*L12*/ /*L13*/ int sum = a * b / 2; /*L14*/ int ans = 0; /*L15*/ /*L16*/ if (a/2 == c && b/2 == d) { /*L17*/ ans = 1; /*L18*/ } /*L19*/ /*L20*/ System.out.println(sum + \" \" + ans); /*L21*/ /*L22*/ /*L23*/ } /*L24*/} /*L25*/ <STATE> L8 args [] L10 sc \"java.util.Scanner[delimiters=\\p{javaWhitespace}+][position=0][match valid=false][need input=false][ args [] L11 sc \"java.util.Scanner[delimiters=\\p{javaWhitespace}+][position=1][match valid=true][need input=false][s a 2 args [] L12 sc \"java.util.Scanner[delimiters=\\p{javaWhitespace}+][position=3][match valid=true][need input=false][s a 2 args [] b 3 L13 sc \"java.util.Scanner[delimiters=\\p{javaWhitespace}+][position=5][match valid=true][need input=false][s a 2 args [] c 1 b 3 L15 sc \"java.util.Scanner[delimiters=\\p{javaWhitespace}+][position=7][match valid=true][need input=false][s d 2 a 2 args [] c 1 b 3 L16 sc \"java.util.Scanner[delimiters=\\p{javaWhitespace}+][position=7][match valid=true][need input=false][s d 2 sum 3 a 2 args [] c 1 b 3 L18 sc \"java.util.Scanner[delimiters=\\p{javaWhitespace}+][position=7][match valid=true][need input=false][s d 2 ans 0 sum 3 a 2 args [] c 1 b 3 L22 sc \"java.util.Scanner[delimiters=\\p{javaWhitespace}+][position=7][match valid=true][need input=false][s d 2 ans 0 sum 3 a 2 args [] c 1 b 3 L25 sc \"java.util.Scanner[delimiters=\\p{javaWhitespace}+][position=7][match valid=true][need input=false][s d 2 ans 0 sum 3 a 2 args [] c 1 b 3 <OUTPUT> L22 \"\\n\" <END>\n",
      "\n"
     ]
    }
   ],
   "source": [
    "import random\n",
    "for i in range(3):\n",
    "    seq = random.choice(sequences)\n",
    "    print(' '.join(seq), end='\\n\\n')"
   ]
  },
  {
   "cell_type": "code",
   "execution_count": 101,
   "metadata": {},
   "outputs": [],
   "source": [
    "with open('sequences.txt', 'w') as f:\n",
    "    f.writelines([' '.join(' '.join(seq).split()) + '\\n' for seq in sequences])"
   ]
  }
 ],
 "metadata": {
  "interpreter": {
   "hash": "31f2aee4e71d21fbe5cf8b01ff0e069b9275f58929596ceb00d14d90e3e16cd6"
  },
  "kernelspec": {
   "display_name": "Python 3.8.10 64-bit",
   "language": "python",
   "name": "python3"
  },
  "language_info": {
   "codemirror_mode": {
    "name": "ipython",
    "version": 3
   },
   "file_extension": ".py",
   "mimetype": "text/x-python",
   "name": "python",
   "nbconvert_exporter": "python",
   "pygments_lexer": "ipython3",
   "version": "3.8.10"
  },
  "orig_nbformat": 4
 },
 "nbformat": 4,
 "nbformat_minor": 2
}
